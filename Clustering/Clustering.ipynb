{
 "cells": [
  {
   "cell_type": "code",
   "execution_count": 1,
   "id": "f0b25922-23cc-4038-834a-736c3b62653b",
   "metadata": {},
   "outputs": [],
   "source": [
    "import org.apache.spark.sql._\n",
    "import org.apache.spark.sql.functions._"
   ]
  },
  {
   "cell_type": "code",
   "execution_count": 2,
   "id": "14c734d0-97e1-4682-a6c6-6fdef68f7b9e",
   "metadata": {},
   "outputs": [
    {
     "data": {
      "text/plain": [
       "org.apache.spark.SparkContext@43351693"
      ]
     },
     "execution_count": 2,
     "metadata": {},
     "output_type": "execute_result"
    }
   ],
   "source": [
    "sc"
   ]
  },
  {
   "cell_type": "code",
   "execution_count": 3,
   "id": "6974ff02-52e9-4a97-b6b7-15c9510b3aae",
   "metadata": {},
   "outputs": [
    {
     "data": {
      "text/plain": [
       "sqlContext = org.apache.spark.sql.SQLContext@258418c9\n"
      ]
     },
     "metadata": {},
     "output_type": "display_data"
    },
    {
     "data": {
      "text/plain": [
       "warning: there was one deprecation warning; re-run with -deprecation for details\n"
      ]
     },
     "metadata": {},
     "output_type": "display_data"
    },
    {
     "data": {
      "text/plain": [
       "org.apache.spark.sql.SQLContext@258418c9"
      ]
     },
     "execution_count": 3,
     "metadata": {},
     "output_type": "execute_result"
    }
   ],
   "source": [
    "val sqlContext = new SQLContext(sc)"
   ]
  },
  {
   "cell_type": "code",
   "execution_count": 4,
   "id": "45960222-0caf-4b20-b659-e9682f7d72b5",
   "metadata": {},
   "outputs": [
    {
     "data": {
      "text/plain": [
       "org.apache.spark.sql.SQLContext@258418c9"
      ]
     },
     "execution_count": 4,
     "metadata": {},
     "output_type": "execute_result"
    }
   ],
   "source": [
    "sqlContext"
   ]
  },
  {
   "cell_type": "markdown",
   "id": "5259145b-7e44-4c70-b0c9-a7f28377b633",
   "metadata": {
    "tags": []
   },
   "source": [
    "# Data Preparation"
   ]
  },
  {
   "cell_type": "markdown",
   "id": "1ce4213a-f9ae-4de4-bb32-4eabaa24857c",
   "metadata": {},
   "source": [
    "### AdClicks"
   ]
  },
  {
   "cell_type": "code",
   "execution_count": 5,
   "id": "aec780b1-9017-43dd-b974-e5acca7006c3",
   "metadata": {},
   "outputs": [
    {
     "data": {
      "text/plain": [
       "adClicksRaw = [timestamp: timestamp, txId: int ... 5 more fields]\n"
      ]
     },
     "metadata": {},
     "output_type": "display_data"
    },
    {
     "data": {
      "text/plain": [
       "[timestamp: timestamp, txId: int ... 5 more fields]"
      ]
     },
     "execution_count": 5,
     "metadata": {},
     "output_type": "execute_result"
    }
   ],
   "source": [
    "val adClicksRaw = sqlContext.read.\n",
    "                        options(\n",
    "                            Map(\n",
    "                                \"inferSchema\"->\"true\",\n",
    "                                \"header\"->\"true\")).\n",
    "                                \n",
    "                        csv(\"../DataSets/flamingo-data/ad-clicks.csv\")"
   ]
  },
  {
   "cell_type": "code",
   "execution_count": 6,
   "id": "5fbcfca0-404a-496e-93e4-dd6874ac3584",
   "metadata": {},
   "outputs": [
    {
     "name": "stdout",
     "output_type": "stream",
     "text": [
      "+-------------------+----+-------------+------+------+----+-----------+\n",
      "|          timestamp|txId|userSessionId|teamId|userId|adId| adCategory|\n",
      "+-------------------+----+-------------+------+------+----+-----------+\n",
      "|2016-05-26 15:13:22|5974|         5809|    27|   611|   2|electronics|\n",
      "|2016-05-26 15:17:24|5976|         5705|    18|  1874|  21|     movies|\n",
      "|2016-05-26 15:22:52|5978|         5791|    53|  2139|  25|  computers|\n",
      "+-------------------+----+-------------+------+------+----+-----------+\n",
      "only showing top 3 rows\n",
      "\n"
     ]
    }
   ],
   "source": [
    "adClicksRaw.show(3)"
   ]
  },
  {
   "cell_type": "code",
   "execution_count": 7,
   "id": "82bd290c-3e25-4152-8d00-95f1f18e7987",
   "metadata": {},
   "outputs": [
    {
     "data": {
      "text/plain": [
       "adClicks = [userId: int, adClicks: bigint]\n"
      ]
     },
     "metadata": {},
     "output_type": "display_data"
    },
    {
     "data": {
      "text/plain": [
       "[userId: int, adClicks: bigint]"
      ]
     },
     "execution_count": 7,
     "metadata": {},
     "output_type": "execute_result"
    }
   ],
   "source": [
    "val adClicks = adClicksRaw.groupBy(s\"userId\").count().withColumnRenamed(\"count\", \"adClicks\")"
   ]
  },
  {
   "cell_type": "code",
   "execution_count": 8,
   "id": "b81f4e04-9691-4e78-b874-6f4861887116",
   "metadata": {},
   "outputs": [
    {
     "name": "stdout",
     "output_type": "stream",
     "text": [
      "+------+--------+\n",
      "|userId|adClicks|\n",
      "+------+--------+\n",
      "|  1645|      41|\n",
      "|   471|      51|\n",
      "|  2142|      46|\n",
      "+------+--------+\n",
      "only showing top 3 rows\n",
      "\n"
     ]
    }
   ],
   "source": [
    "adClicks.show(3)"
   ]
  },
  {
   "cell_type": "code",
   "execution_count": 9,
   "id": "0f8a6d38-91ae-456e-988f-fb6685a95da9",
   "metadata": {},
   "outputs": [
    {
     "name": "stdout",
     "output_type": "stream",
     "text": [
      "root\n",
      " |-- userId: integer (nullable = true)\n",
      " |-- adClicks: long (nullable = false)\n",
      "\n"
     ]
    },
    {
     "data": {
      "text/plain": [
       "597"
      ]
     },
     "execution_count": 9,
     "metadata": {},
     "output_type": "execute_result"
    }
   ],
   "source": [
    "adClicks.printSchema\n",
    "adClicks.count"
   ]
  },
  {
   "cell_type": "markdown",
   "id": "f64f3e7b-e897-43dc-9d3c-53978faa0fa1",
   "metadata": {
    "tags": []
   },
   "source": [
    "### purchases"
   ]
  },
  {
   "cell_type": "code",
   "execution_count": 10,
   "id": "bc617e3a-a0a3-47c5-8d3e-5f1cb503ad5f",
   "metadata": {},
   "outputs": [
    {
     "data": {
      "text/plain": [
       "purchasesRaw = [timestamp: timestamp, txId: int ... 5 more fields]\n"
      ]
     },
     "metadata": {},
     "output_type": "display_data"
    },
    {
     "data": {
      "text/plain": [
       "[timestamp: timestamp, txId: int ... 5 more fields]"
      ]
     },
     "execution_count": 10,
     "metadata": {},
     "output_type": "execute_result"
    }
   ],
   "source": [
    "val purchasesRaw = sqlContext.read.\n",
    "                        options(Map(\n",
    "                            \"header\"->\"true\",\n",
    "                            \"inferSchema\"->\"true\"\n",
    "                        )).\n",
    "                        csv(\"../DataSets/flamingo-data/buy-clicks.csv\")"
   ]
  },
  {
   "cell_type": "code",
   "execution_count": 11,
   "id": "af8324fd-1384-4045-a705-3a5387d6fd3c",
   "metadata": {},
   "outputs": [
    {
     "name": "stdout",
     "output_type": "stream",
     "text": [
      "+-------------------+----+-------------+----+------+-----+-----+\n",
      "|          timestamp|txId|userSessionId|team|userId|buyId|price|\n",
      "+-------------------+----+-------------+----+------+-----+-----+\n",
      "|2016-05-26 15:36:54|6004|         5820|   9|  1300|    2|  3.0|\n",
      "|2016-05-26 15:36:54|6005|         5775|  35|   868|    4| 10.0|\n",
      "|2016-05-26 15:36:54|6006|         5679|  97|   819|    5| 20.0|\n",
      "+-------------------+----+-------------+----+------+-----+-----+\n",
      "only showing top 3 rows\n",
      "\n"
     ]
    }
   ],
   "source": [
    "purchasesRaw.show(3)"
   ]
  },
  {
   "cell_type": "code",
   "execution_count": 12,
   "id": "260a39ab-fda1-433f-898e-bef18be57fd0",
   "metadata": {},
   "outputs": [
    {
     "data": {
      "text/plain": [
       "purchases = [userId: int, Total Purchase: double]\n"
      ]
     },
     "metadata": {},
     "output_type": "display_data"
    },
    {
     "data": {
      "text/plain": [
       "[userId: int, Total Purchase: double]"
      ]
     },
     "execution_count": 12,
     "metadata": {},
     "output_type": "execute_result"
    }
   ],
   "source": [
    "val purchases = purchasesRaw.groupBy(\"userId\").agg(sum(\"price\") as \"Total Purchase\")"
   ]
  },
  {
   "cell_type": "code",
   "execution_count": 13,
   "id": "317a9c68-4c86-49c7-a1df-71ff7a393e3d",
   "metadata": {},
   "outputs": [
    {
     "name": "stdout",
     "output_type": "stream",
     "text": [
      "+------+--------------+\n",
      "|userId|Total Purchase|\n",
      "+------+--------------+\n",
      "|   471|         202.0|\n",
      "|  1645|          16.0|\n",
      "|  2142|          22.0|\n",
      "+------+--------------+\n",
      "only showing top 3 rows\n",
      "\n"
     ]
    }
   ],
   "source": [
    "purchases.show(3)"
   ]
  },
  {
   "cell_type": "code",
   "execution_count": 14,
   "id": "d62772b7-93f8-40ab-a3bd-283b6e135dbd",
   "metadata": {},
   "outputs": [
    {
     "name": "stdout",
     "output_type": "stream",
     "text": [
      "root\n",
      " |-- userId: integer (nullable = true)\n",
      " |-- Total Purchase: double (nullable = true)\n",
      "\n"
     ]
    },
    {
     "data": {
      "text/plain": [
       "546"
      ]
     },
     "execution_count": 14,
     "metadata": {},
     "output_type": "execute_result"
    }
   ],
   "source": [
    "purchases.printSchema\n",
    "purchases.count"
   ]
  },
  {
   "cell_type": "markdown",
   "id": "d569fb12-6618-4d3d-8014-4e043e681412",
   "metadata": {},
   "source": [
    "### teamStrength"
   ]
  },
  {
   "cell_type": "code",
   "execution_count": 15,
   "id": "580ff85f-a5ab-4303-bd33-a04fbe29846b",
   "metadata": {},
   "outputs": [
    {
     "data": {
      "text/plain": [
       "userTeamRaw = [timestamp: timestamp, team: int ... 2 more fields]\n"
      ]
     },
     "metadata": {},
     "output_type": "display_data"
    },
    {
     "data": {
      "text/plain": [
       "[timestamp: timestamp, team: int ... 2 more fields]"
      ]
     },
     "execution_count": 15,
     "metadata": {},
     "output_type": "execute_result"
    }
   ],
   "source": [
    "val userTeamRaw = sqlContext.read.\n",
    "                    options(Map(\n",
    "                        \"header\"->\"true\",\n",
    "                        \"inferSchema\"->\"true\"\n",
    "                    ))\n",
    "                    .csv(\"../DataSets/flamingo-data/team-assignments.csv\")"
   ]
  },
  {
   "cell_type": "code",
   "execution_count": 16,
   "id": "e5eeb363-22ac-445f-b83f-92bbe5ca06e0",
   "metadata": {},
   "outputs": [
    {
     "name": "stdout",
     "output_type": "stream",
     "text": [
      "root\n",
      " |-- timestamp: timestamp (nullable = true)\n",
      " |-- team: integer (nullable = true)\n",
      " |-- userId: integer (nullable = true)\n",
      " |-- assignmentId: integer (nullable = true)\n",
      "\n"
     ]
    }
   ],
   "source": [
    "userTeamRaw.printSchema"
   ]
  },
  {
   "cell_type": "code",
   "execution_count": 17,
   "id": "5c903f69-4744-4c5d-a6bc-92128b2d566a",
   "metadata": {},
   "outputs": [
    {
     "name": "stdout",
     "output_type": "stream",
     "text": [
      "+-------------------+----+------+------------+\n",
      "|          timestamp|team|userId|assignmentId|\n",
      "+-------------------+----+------+------------+\n",
      "|2016-05-26 14:06:54|  64|   504|        5439|\n",
      "|2016-05-26 14:07:00|  39|  1698|        5301|\n",
      "|2016-05-26 14:07:04|  85|    81|        5540|\n",
      "+-------------------+----+------+------------+\n",
      "only showing top 3 rows\n",
      "\n"
     ]
    }
   ],
   "source": [
    "userTeamRaw show 3"
   ]
  },
  {
   "cell_type": "code",
   "execution_count": 18,
   "id": "2ed53f1a-3c5a-444f-b328-5abc3b39d29e",
   "metadata": {},
   "outputs": [
    {
     "data": {
      "text/plain": [
       "userTeamStamped = [timestamp: timestamp, team: int ... 3 more fields]\n"
      ]
     },
     "metadata": {},
     "output_type": "display_data"
    },
    {
     "data": {
      "text/plain": [
       "[timestamp: timestamp, team: int ... 3 more fields]"
      ]
     },
     "execution_count": 18,
     "metadata": {},
     "output_type": "execute_result"
    }
   ],
   "source": [
    "val userTeamStamped = userTeamRaw withColumn (\"timeStampEpoch\", unix_timestamp($\"timestamp\"))"
   ]
  },
  {
   "cell_type": "code",
   "execution_count": 19,
   "id": "10bf2b6b-4e16-4592-a655-1cfeaa6c6425",
   "metadata": {},
   "outputs": [
    {
     "data": {
      "text/plain": [
       "userTeamLatest = [userId: int, timeStampEpoch: bigint]\n"
      ]
     },
     "metadata": {},
     "output_type": "display_data"
    },
    {
     "data": {
      "text/plain": [
       "[userId: int, timeStampEpoch: bigint]"
      ]
     },
     "execution_count": 19,
     "metadata": {},
     "output_type": "execute_result"
    }
   ],
   "source": [
    "val userTeamLatest = userTeamStamped groupBy \"userId\" agg (max(\"timeStampEpoch\") alias \"timeStampEpoch\")"
   ]
  },
  {
   "cell_type": "code",
   "execution_count": 20,
   "id": "348d6be5-15b2-4022-9663-fa28adf8cac5",
   "metadata": {},
   "outputs": [
    {
     "data": {
      "text/plain": [
       "userTeam = [userId: int, team: int]\n"
      ]
     },
     "metadata": {},
     "output_type": "display_data"
    },
    {
     "data": {
      "text/plain": [
       "[userId: int, team: int]"
      ]
     },
     "execution_count": 20,
     "metadata": {},
     "output_type": "execute_result"
    }
   ],
   "source": [
    "val userTeam = userTeamStamped.join(userTeamLatest, \n",
    "                     userTeamStamped(\"userId\") === userTeamLatest(\"userId\") \n",
    "                     && userTeamStamped(\"timeStampEpoch\") === userTeamLatest(\"timeStampEpoch\")\n",
    "                    ).select(userTeamStamped(\"userId\"), userTeamStamped(\"team\"))"
   ]
  },
  {
   "cell_type": "code",
   "execution_count": 21,
   "id": "bdfb6504-8eb3-48a2-aaec-89a1a75ec84b",
   "metadata": {},
   "outputs": [
    {
     "name": "stdout",
     "output_type": "stream",
     "text": [
      "root\n",
      " |-- userId: integer (nullable = true)\n",
      " |-- team: integer (nullable = true)\n",
      "\n"
     ]
    },
    {
     "data": {
      "text/plain": [
       "2391"
      ]
     },
     "execution_count": 21,
     "metadata": {},
     "output_type": "execute_result"
    }
   ],
   "source": [
    "userTeam.printSchema\n",
    "userTeam.count"
   ]
  },
  {
   "cell_type": "code",
   "execution_count": 22,
   "id": "cbd71ef3-5480-4272-8665-e2ac8a3077c0",
   "metadata": {},
   "outputs": [
    {
     "data": {
      "text/plain": [
       "teamStrength = [teamId: int, strength: double]\n"
      ]
     },
     "metadata": {},
     "output_type": "display_data"
    },
    {
     "data": {
      "text/plain": [
       "[teamId: int, strength: double]"
      ]
     },
     "execution_count": 22,
     "metadata": {},
     "output_type": "execute_result"
    }
   ],
   "source": [
    "val teamStrength = sqlContext.read.\n",
    "                    options(Map(\n",
    "                        \"header\"->\"true\",\n",
    "                        \"inferSchema\"->\"true\"\n",
    "                    )).\n",
    "                    csv(\"../DataSets/flamingo-data/team.csv\").\n",
    "                    select(\"teamId\",\"strength\")"
   ]
  },
  {
   "cell_type": "code",
   "execution_count": 23,
   "id": "0d2fc3eb-e7c6-49ac-8084-ca41c1192f7a",
   "metadata": {},
   "outputs": [
    {
     "name": "stdout",
     "output_type": "stream",
     "text": [
      "+------+--------------+\n",
      "|teamId|      strength|\n",
      "+------+--------------+\n",
      "|    79|0.774473575316|\n",
      "|    92| 0.17192602642|\n",
      "|     6|0.537353043526|\n",
      "+------+--------------+\n",
      "only showing top 3 rows\n",
      "\n"
     ]
    }
   ],
   "source": [
    "teamStrength show 3"
   ]
  },
  {
   "cell_type": "code",
   "execution_count": 24,
   "id": "1f786cdb-7b3a-4b61-9ef1-917a2db84538",
   "metadata": {},
   "outputs": [
    {
     "name": "stdout",
     "output_type": "stream",
     "text": [
      "root\n",
      " |-- teamId: integer (nullable = true)\n",
      " |-- strength: double (nullable = true)\n",
      "\n"
     ]
    },
    {
     "data": {
      "text/plain": [
       "109"
      ]
     },
     "execution_count": 24,
     "metadata": {},
     "output_type": "execute_result"
    }
   ],
   "source": [
    "teamStrength.printSchema\n",
    "teamStrength.count"
   ]
  },
  {
   "cell_type": "code",
   "execution_count": 25,
   "id": "e947b087-e9cf-4831-9408-a93a876df164",
   "metadata": {},
   "outputs": [
    {
     "data": {
      "text/plain": [
       "userTeamStrength = [userId: int, teamStrength: double]\n"
      ]
     },
     "metadata": {},
     "output_type": "display_data"
    },
    {
     "data": {
      "text/plain": [
       "[userId: int, teamStrength: double]"
      ]
     },
     "execution_count": 25,
     "metadata": {},
     "output_type": "execute_result"
    }
   ],
   "source": [
    "val userTeamStrength = userTeam.join(teamStrength, userTeam(\"team\") === teamStrength(\"teamId\")).select(col(\"userId\"),col(\"strength\") as \"teamStrength\")"
   ]
  },
  {
   "cell_type": "code",
   "execution_count": 26,
   "id": "26bf5c08-8b9e-4cd5-bccb-4a60625e2579",
   "metadata": {},
   "outputs": [
    {
     "name": "stdout",
     "output_type": "stream",
     "text": [
      "+------+--------------+\n",
      "|userId|  teamStrength|\n",
      "+------+--------------+\n",
      "|   504|0.406089913506|\n",
      "|    81|0.132214897776|\n",
      "|  1665|0.393763462002|\n",
      "+------+--------------+\n",
      "only showing top 3 rows\n",
      "\n"
     ]
    }
   ],
   "source": [
    "userTeamStrength show 3"
   ]
  },
  {
   "cell_type": "code",
   "execution_count": 27,
   "id": "a0149d7d-16ca-4ffd-8341-d570c0896127",
   "metadata": {},
   "outputs": [
    {
     "name": "stdout",
     "output_type": "stream",
     "text": [
      "root\n",
      " |-- userId: integer (nullable = true)\n",
      " |-- teamStrength: double (nullable = true)\n",
      "\n"
     ]
    },
    {
     "data": {
      "text/plain": [
       "1213"
      ]
     },
     "execution_count": 27,
     "metadata": {},
     "output_type": "execute_result"
    }
   ],
   "source": [
    "userTeamStrength.printSchema\n",
    "userTeamStrength.count"
   ]
  },
  {
   "cell_type": "markdown",
   "id": "d338958d-ad44-4abd-b766-7756a04302ec",
   "metadata": {},
   "source": [
    "### userClicks "
   ]
  },
  {
   "cell_type": "code",
   "execution_count": 28,
   "id": "9108c483-a704-40e2-bfa6-f74b33dc3e6b",
   "metadata": {},
   "outputs": [
    {
     "data": {
      "text/plain": [
       "userClicksRaw = [timestamp: timestamp, clickId: int ... 1 more field]\n"
      ]
     },
     "metadata": {},
     "output_type": "display_data"
    },
    {
     "data": {
      "text/plain": [
       "[timestamp: timestamp, clickId: int ... 1 more field]"
      ]
     },
     "execution_count": 28,
     "metadata": {},
     "output_type": "execute_result"
    }
   ],
   "source": [
    "val userClicksRaw = sqlContext.read.\n",
    "                        options(Map(\n",
    "                            \"header\"->\"true\",\n",
    "                            \"inferSchema\"->\"true\"\n",
    "                        )).\n",
    "                        csv(\"../DataSets/flamingo-data/game-clicks.csv\").\n",
    "                        select(\"timestamp\",\"clickId\",\"userId\")"
   ]
  },
  {
   "cell_type": "code",
   "execution_count": 29,
   "id": "4dadea0e-072c-4fa3-9bc1-7b3be9b2be0c",
   "metadata": {},
   "outputs": [
    {
     "name": "stdout",
     "output_type": "stream",
     "text": [
      "root\n",
      " |-- timestamp: timestamp (nullable = true)\n",
      " |-- clickId: integer (nullable = true)\n",
      " |-- userId: integer (nullable = true)\n",
      "\n"
     ]
    },
    {
     "data": {
      "text/plain": [
       "755806"
      ]
     },
     "execution_count": 29,
     "metadata": {},
     "output_type": "execute_result"
    }
   ],
   "source": [
    "userClicksRaw.printSchema\n",
    "userClicksRaw.count"
   ]
  },
  {
   "cell_type": "code",
   "execution_count": 30,
   "id": "1d4b5ce1-abdf-481e-8721-4f92dfcf3fc8",
   "metadata": {},
   "outputs": [
    {
     "name": "stdout",
     "output_type": "stream",
     "text": [
      "+-------------------+-------+------+\n",
      "|          timestamp|clickId|userId|\n",
      "+-------------------+-------+------+\n",
      "|2016-05-26 15:06:55|    105|  1038|\n",
      "|2016-05-26 15:07:09|    154|  1099|\n",
      "|2016-05-26 15:07:14|    229|   899|\n",
      "+-------------------+-------+------+\n",
      "only showing top 3 rows\n",
      "\n"
     ]
    }
   ],
   "source": [
    "userClicksRaw show 3"
   ]
  },
  {
   "cell_type": "code",
   "execution_count": 31,
   "id": "ac8cdd87-b4e6-4fe4-823e-51d945142e7f",
   "metadata": {},
   "outputs": [
    {
     "data": {
      "text/plain": [
       "userClicksHour = [hour: string, clickId: int ... 1 more field]\n"
      ]
     },
     "metadata": {},
     "output_type": "display_data"
    },
    {
     "data": {
      "text/plain": [
       "[hour: string, clickId: int ... 1 more field]"
      ]
     },
     "execution_count": 31,
     "metadata": {},
     "output_type": "execute_result"
    }
   ],
   "source": [
    "val userClicksHour = userClicksRaw.withColumn(\n",
    "    \"timestamp\", date_format($\"timestamp\", \"MM/dd/yyyy HH\")\n",
    ").withColumnRenamed(\"timestamp\", \"hour\")"
   ]
  },
  {
   "cell_type": "code",
   "execution_count": 32,
   "id": "6a8fe833-b794-44c8-84b5-1674aa08c5cd",
   "metadata": {},
   "outputs": [
    {
     "data": {
      "text/plain": [
       "userClicksPerHour = [userId: int, hour: string ... 1 more field]\n"
      ]
     },
     "metadata": {},
     "output_type": "display_data"
    },
    {
     "data": {
      "text/plain": [
       "[userId: int, hour: string ... 1 more field]"
      ]
     },
     "execution_count": 32,
     "metadata": {},
     "output_type": "execute_result"
    }
   ],
   "source": [
    "val userClicksPerHour = userClicksHour.groupBy(\n",
    "    \"userId\",\"hour\"\n",
    ").\n",
    "count.\n",
    "withColumnRenamed(\"count\", \"clicks\")"
   ]
  },
  {
   "cell_type": "code",
   "execution_count": 33,
   "id": "5cbaba24-eb22-4d6e-97f5-6d9fc40b6784",
   "metadata": {},
   "outputs": [
    {
     "data": {
      "text/plain": [
       "userClicks = [userId: int, avg_clicks/hr: double]\n"
      ]
     },
     "metadata": {},
     "output_type": "display_data"
    },
    {
     "data": {
      "text/plain": [
       "[userId: int, avg_clicks/hr: double]"
      ]
     },
     "execution_count": 33,
     "metadata": {},
     "output_type": "execute_result"
    }
   ],
   "source": [
    "val userClicks = userClicksPerHour.\n",
    "groupBy(\"userId\").\n",
    "agg(\n",
    "    avg(\"clicks\") as \"avg_clicks/hr\"\n",
    ")"
   ]
  },
  {
   "cell_type": "code",
   "execution_count": 34,
   "id": "33025d11-4a75-4322-a6ec-6fa5ee7e8e9c",
   "metadata": {},
   "outputs": [
    {
     "name": "stdout",
     "output_type": "stream",
     "text": [
      "root\n",
      " |-- userId: integer (nullable = true)\n",
      " |-- avg_clicks/hr: double (nullable = true)\n",
      "\n"
     ]
    },
    {
     "data": {
      "text/plain": [
       "1193"
      ]
     },
     "execution_count": 34,
     "metadata": {},
     "output_type": "execute_result"
    }
   ],
   "source": [
    "userClicks.printSchema\n",
    "userClicks.count"
   ]
  },
  {
   "cell_type": "markdown",
   "id": "5e60b66b-32fe-4a64-ad4c-2bb7938a925b",
   "metadata": {},
   "source": [
    "# Integrating all the datasets into one"
   ]
  },
  {
   "cell_type": "code",
   "execution_count": 35,
   "id": "0c7907f6-60af-4d33-9503-eaeed5544b65",
   "metadata": {},
   "outputs": [],
   "source": [
    "adClicks.createOrReplaceTempView(\"adClicks\")\n",
    "purchases.createOrReplaceTempView(\"purchases\")\n",
    "userTeamStrength.createOrReplaceTempView(\"userTeamStrength\")\n",
    "userClicks.createOrReplaceTempView(\"userClicks\")"
   ]
  },
  {
   "cell_type": "markdown",
   "id": "d0be37b4-7ee1-4659-b120-eb61aefde9a4",
   "metadata": {},
   "source": [
    "Join all the above tables into one and drop the NaN/Null values"
   ]
  },
  {
   "cell_type": "code",
   "execution_count": 36,
   "id": "81a7135c-db0d-4c74-af2f-87e3fd378cf1",
   "metadata": {},
   "outputs": [
    {
     "data": {
      "text/plain": [
       "df = [adClicks: bigint, Total Purchase: double ... 2 more fields]\n"
      ]
     },
     "metadata": {},
     "output_type": "display_data"
    },
    {
     "data": {
      "text/plain": [
       "[adClicks: bigint, Total Purchase: double ... 2 more fields]"
      ]
     },
     "execution_count": 36,
     "metadata": {},
     "output_type": "execute_result"
    }
   ],
   "source": [
    "val df = spark.sql(\n",
    "    \"SELECT ac.adClicks, p.`Total Purchase`, s.teamStrength, c.`avg_clicks/hr` FROM adclicks ac INNER JOIN purchases p on ac.userId==p.userId INNER JOIN userTeamStrength s on ac.userId==s.userId INNER JOIN userClicks c on ac.userId==c.userId\"\n",
    ").\n",
    "na.\n",
    "drop"
   ]
  },
  {
   "cell_type": "code",
   "execution_count": 37,
   "id": "76d0d3e3-0fef-450d-9547-222464d0e5d6",
   "metadata": {},
   "outputs": [
    {
     "name": "stdout",
     "output_type": "stream",
     "text": [
      "+--------+--------------+--------------+------------------+\n",
      "|adClicks|Total Purchase|  teamStrength|     avg_clicks/hr|\n",
      "+--------+--------------+--------------+------------------+\n",
      "|      51|         202.0|0.141376627543|1.7583892617449663|\n",
      "|      41|          16.0|0.320057042827|2.5310880829015545|\n",
      "|      17|           8.0|0.132214897776|2.0707964601769913|\n",
      "|      56|          14.0|0.350676528613|1.9941176470588236|\n",
      "|      39|          20.0|0.340788463107|1.8021582733812949|\n",
      "+--------+--------------+--------------+------------------+\n",
      "only showing top 5 rows\n",
      "\n"
     ]
    }
   ],
   "source": [
    "df show 5"
   ]
  },
  {
   "cell_type": "code",
   "execution_count": 38,
   "id": "fec3f65f-c96b-42ec-b617-b62bc9f766d8",
   "metadata": {},
   "outputs": [
    {
     "name": "stdout",
     "output_type": "stream",
     "text": [
      "root\n",
      " |-- adClicks: long (nullable = false)\n",
      " |-- Total Purchase: double (nullable = true)\n",
      " |-- teamStrength: double (nullable = true)\n",
      " |-- avg_clicks/hr: double (nullable = true)\n",
      "\n"
     ]
    },
    {
     "data": {
      "text/plain": [
       "357"
      ]
     },
     "execution_count": 38,
     "metadata": {},
     "output_type": "execute_result"
    }
   ],
   "source": [
    "df.printSchema\n",
    "df.count"
   ]
  },
  {
   "cell_type": "code",
   "execution_count": 39,
   "id": "816cb0de-0a8a-416c-a69b-48086de2a4a6",
   "metadata": {},
   "outputs": [
    {
     "name": "stdout",
     "output_type": "stream",
     "text": [
      "+-------+------------------+------------------+-------------------+------------------+\n",
      "|summary|          adClicks|    Total Purchase|       teamStrength|     avg_clicks/hr|\n",
      "+-------+------------------+------------------+-------------------+------------------+\n",
      "|  count|               357|               357|                357|               357|\n",
      "|   mean| 34.49579831932773|46.378151260504204| 0.5147398670937521| 2.161097447318779|\n",
      "| stddev|14.508932128512162|45.351187365370755|0.28548569836670606| 0.867561647113368|\n",
      "|    min|                 1|               1.0|    0.0132752022046|1.3636363636363635|\n",
      "|    max|                67|             223.0|     0.952175553216| 9.808695652173913|\n",
      "+-------+------------------+------------------+-------------------+------------------+\n",
      "\n"
     ]
    }
   ],
   "source": [
    "df.describe().show"
   ]
  },
  {
   "cell_type": "markdown",
   "id": "d799306c-c6d4-4fc6-ba48-ce331a5f9d5f",
   "metadata": {},
   "source": [
    "# Scaling the Data for Clustering"
   ]
  },
  {
   "cell_type": "markdown",
   "id": "42932467-1acc-4c91-972a-57b7ba3b788d",
   "metadata": {},
   "source": [
    "### Using VectorAssembler to gather all features into one column."
   ]
  },
  {
   "cell_type": "code",
   "execution_count": 40,
   "id": "2d590f1e-f16e-4d2b-95af-63556804cd2e",
   "metadata": {},
   "outputs": [],
   "source": [
    "import org.apache.spark.ml.feature.{VectorAssembler, StandardScaler}"
   ]
  },
  {
   "cell_type": "code",
   "execution_count": 41,
   "id": "8dcaae72-0573-48ae-906c-60fa3a44572b",
   "metadata": {},
   "outputs": [
    {
     "data": {
      "text/plain": [
       "featuresUsed = Array(adClicks, Total Purchase, teamStrength, avg_clicks/hr)\n",
       "assembler = vecAssembler_294b41990025\n",
       "assembled = [adClicks: bigint, Total Purchase: double ... 3 more fields]\n"
      ]
     },
     "metadata": {},
     "output_type": "display_data"
    },
    {
     "data": {
      "text/plain": [
       "[adClicks: bigint, Total Purchase: double ... 3 more fields]"
      ]
     },
     "execution_count": 41,
     "metadata": {},
     "output_type": "execute_result"
    }
   ],
   "source": [
    "val featuresUsed = df.columns\n",
    "val assembler = new VectorAssembler().setInputCols(featuresUsed).setOutputCol(\"features_unscaled\")\n",
    "val assembled = assembler.transform(df)"
   ]
  },
  {
   "cell_type": "markdown",
   "id": "d0f74a7c-4ed5-4fd7-8c35-d9a97066abc3",
   "metadata": {},
   "source": [
    "### Scale the features using StandardScaler"
   ]
  },
  {
   "cell_type": "code",
   "execution_count": 42,
   "id": "da39d50f-e449-4f67-991b-d10277e233cd",
   "metadata": {},
   "outputs": [
    {
     "data": {
      "text/plain": [
       "scaler = stdScal_cefe059d044e\n",
       "scalerModel = stdScal_cefe059d044e\n",
       "dataWithScaledFeatures = [adClicks: bigint, Total Purchase: double ... 4 more fields]\n"
      ]
     },
     "metadata": {},
     "output_type": "display_data"
    },
    {
     "data": {
      "text/plain": [
       "[adClicks: bigint, Total Purchase: double ... 4 more fields]"
      ]
     },
     "execution_count": 42,
     "metadata": {},
     "output_type": "execute_result"
    }
   ],
   "source": [
    "val scaler = new StandardScaler().\n",
    "setInputCol(\"features_unscaled\").\n",
    "setOutputCol(\"features\").\n",
    "setWithMean(true).\n",
    "setWithStd(true)\n",
    "\n",
    "val scalerModel = scaler.fit(assembled)\n",
    "\n",
    "val dataWithScaledFeatures = scalerModel.transform(assembled)"
   ]
  },
  {
   "cell_type": "code",
   "execution_count": 43,
   "id": "b474d056-32cd-45c6-8559-a5f45506789d",
   "metadata": {},
   "outputs": [
    {
     "data": {
      "text/plain": [
       "scaledData = [features: vector]\n"
      ]
     },
     "metadata": {},
     "output_type": "display_data"
    },
    {
     "data": {
      "text/plain": [
       "[features: vector]"
      ]
     },
     "execution_count": 43,
     "metadata": {},
     "output_type": "execute_result"
    }
   ],
   "source": [
    "val scaledData = dataWithScaledFeatures.select(\"features\")\n",
    "scaledData.persist"
   ]
  },
  {
   "cell_type": "markdown",
   "id": "457ca54c-72b2-44aa-beb6-7bf6cf4fb548",
   "metadata": {},
   "source": [
    "# K-Means Clustering"
   ]
  },
  {
   "cell_type": "code",
   "execution_count": 44,
   "id": "17f63184-4595-4405-a051-7a6d28d130c5",
   "metadata": {},
   "outputs": [],
   "source": [
    "import org.apache.spark.ml.clustering.KMeans"
   ]
  },
  {
   "cell_type": "code",
   "execution_count": 45,
   "id": "116667f9-0708-41e1-95a5-5b0ce13dd26e",
   "metadata": {},
   "outputs": [
    {
     "data": {
      "text/plain": [
       "kmeans = kmeans_0e4f02c2494b\n"
      ]
     },
     "metadata": {},
     "output_type": "display_data"
    },
    {
     "data": {
      "text/plain": [
       "kmeans_0e4f02c2494b"
      ]
     },
     "execution_count": 45,
     "metadata": {},
     "output_type": "execute_result"
    }
   ],
   "source": [
    "val kmeans = new KMeans().setK(3).setSeed(3)"
   ]
  },
  {
   "cell_type": "code",
   "execution_count": 46,
   "id": "1c956ebe-880c-4085-9666-0cb4f702de4b",
   "metadata": {},
   "outputs": [
    {
     "data": {
      "text/plain": [
       "model = kmeans_0e4f02c2494b\n"
      ]
     },
     "metadata": {},
     "output_type": "display_data"
    },
    {
     "data": {
      "text/plain": [
       "kmeans_0e4f02c2494b"
      ]
     },
     "execution_count": 46,
     "metadata": {},
     "output_type": "execute_result"
    }
   ],
   "source": [
    "val model = kmeans.fit(scaledData)"
   ]
  },
  {
   "cell_type": "code",
   "execution_count": 47,
   "id": "cf99d56b-44ba-43f1-9275-bfddb28b9281",
   "metadata": {},
   "outputs": [
    {
     "name": "stdout",
     "output_type": "stream",
     "text": [
      "[0.5657139554913385,0.563821993934577,-0.735529367238947,-0.13910127144715317]\n",
      "[-1.2507587950221974,-0.5508930923104601,-0.10507183478055206,-0.1993074766586671]\n",
      "[0.5306311917353007,-0.1422001957462632,0.9800822528171503,0.35843527965628785]\n"
     ]
    }
   ],
   "source": [
    "model.clusterCenters foreach println"
   ]
  },
  {
   "cell_type": "code",
   "execution_count": 48,
   "id": "6adc660f-cac7-46de-9409-a12f4958a5b0",
   "metadata": {},
   "outputs": [
    {
     "data": {
      "text/plain": [
       "Array(adClicks, Total Purchase, teamStrength, avg_clicks/hr)"
      ]
     },
     "execution_count": 48,
     "metadata": {},
     "output_type": "execute_result"
    }
   ],
   "source": [
    "df.columns"
   ]
  }
 ],
 "metadata": {
  "kernelspec": {
   "display_name": "Apache Toree - Scala",
   "language": "scala",
   "name": "apache_toree_scala"
  },
  "language_info": {
   "codemirror_mode": "text/x-scala",
   "file_extension": ".scala",
   "mimetype": "text/x-scala",
   "name": "scala",
   "pygments_lexer": "scala",
   "version": "2.11.12"
  }
 },
 "nbformat": 4,
 "nbformat_minor": 5
}