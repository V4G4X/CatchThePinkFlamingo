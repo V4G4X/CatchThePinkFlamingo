{
 "cells": [
  {
   "cell_type": "markdown",
   "metadata": {},
   "source": [
    "# Setting up Contraints"
   ]
  },
  {
   "cell_type": "code",
   "execution_count": null,
   "metadata": {},
   "outputs": [],
   "source": [
    "CREATE CONSTRAINT ON (u:User) ASSERT u.id IS UNIQUE; \n",
    "CREATE CONSTRAINT ON (t:Team) ASSERT t.id IS UNIQUE; \n",
    "CREATE CONSTRAINT ON (c:TeamChatSession) ASSERT c.id IS UNIQUE; \n",
    "CREATE CONSTRAINT ON (i:ChatItem) ASSERT i.id IS UNIQUE;"
   ]
  },
  {
   "cell_type": "markdown",
   "metadata": {},
   "source": [
    "# Importing Data"
   ]
  },
  {
   "cell_type": "markdown",
   "metadata": {},
   "source": [
    "## chat_create_team_chat.csv"
   ]
  },
  {
   "cell_type": "code",
   "execution_count": null,
   "metadata": {},
   "outputs": [],
   "source": [
    "LOAD CSV FROM \"file:/capstone_chat_data/chat_create_team_chat.csv\" AS row \n",
    "MERGE (u:User {id: toInteger(row[0])})\n",
    "MERGE (t:Team {id: toInteger(row[1])}) \n",
    "MERGE (c:TeamChatSession {id: toInteger(row[2])}) \n",
    "MERGE (u)-[:CreatesSession{timeStamp: row[3]}]->(c) \n",
    "MERGE (c)-[:OwnedBy{timeStamp: row[3]}]->(t)"
   ]
  },
  {
   "cell_type": "markdown",
   "metadata": {},
   "source": [
    "## chat_join_team_chat.csv"
   ]
  },
  {
   "cell_type": "code",
   "execution_count": null,
   "metadata": {},
   "outputs": [],
   "source": [
    "LOAD CSV FROM \"file:/capstone_chat_data/chat_join_team_chat.csv\" AS row \n",
    "MERGE (u:User {id: toInteger(row[0])})\n",
    "MERGE (c:TeamChatSession {id: toInteger(row[1])}) \n",
    "MERGE (u)-[:Joins{timeStamp: row[2]}]->(c) "
   ]
  },
  {
   "cell_type": "markdown",
   "metadata": {},
   "source": [
    "## chat_leave_team_chat.csv"
   ]
  },
  {
   "cell_type": "code",
   "execution_count": null,
   "metadata": {},
   "outputs": [],
   "source": [
    "LOAD CSV FROM \"file:/capstone_chat_data/chat_leave_team_chat.csv\" AS row \n",
    "MERGE (u:User {id: toInteger(row[0])})\n",
    "MERGE (c:TeamChatSession {id: toInteger(row[1])})   \n",
    "MERGE (u)-[:Leaves{timeStamp: row[2]}]->(c) "
   ]
  },
  {
   "cell_type": "markdown",
   "metadata": {},
   "source": [
    "## chat_item_team_chat.csv"
   ]
  },
  {
   "cell_type": "code",
   "execution_count": null,
   "metadata": {},
   "outputs": [],
   "source": [
    "LOAD CSV FROM \"file:/capstone_chat_data/chat_item_team_chat.csv\" AS row \n",
    "MERGE (u:User {id: toInteger(row[0])})\n",
    "MERGE (c:TeamChatSession {id: toInteger(row[1])}) \n",
    "MERGE (i:ChatItem {id: toInteger(row[2])})\n",
    "MERGE (u)-[:CreateChat{timeStamp: row[3]}]->(i)\n",
    "MERGE (i)-[:PartOf{timeStamp: row[3]}]->(c)"
   ]
  },
  {
   "cell_type": "markdown",
   "metadata": {},
   "source": [
    "## chat_mention_team_chat.csv"
   ]
  },
  {
   "cell_type": "code",
   "execution_count": null,
   "metadata": {},
   "outputs": [],
   "source": [
    "LOAD CSV FROM \"file:/capstone_chat_data/chat_mention_team_chat.csv\" AS row\n",
    "MERGE (i:ChatItem {id: toInteger(row[0])})\n",
    "MERGE (u:User {id: toInteger(row[1])})\n",
    "MERGE (i)-[:Mentioned{timestamp: row[2]}]->(u)"
   ]
  },
  {
   "cell_type": "markdown",
   "metadata": {},
   "source": [
    "## chat_respond_team_chat.csv"
   ]
  },
  {
   "cell_type": "code",
   "execution_count": null,
   "metadata": {},
   "outputs": [],
   "source": [
    "LOAD CSV FROM \"file:/capstone_chat_data/chat_respond_team_chat.csv\" AS row\n",
    "MERGE (i1:ChatItem {id: toInteger(row[0])})\n",
    "MERGE (i2:ChatItem {id: toInteger(row[1])})\n",
    "MERGE (i2)-[:ResponseTo{timestamp: row[2]}]->(i1)"
   ]
  }
 ],
 "metadata": {
  "kernelspec": {
   "display_name": "Python 3",
   "language": "python",
   "name": "python3"
  },
  "language_info": {
   "codemirror_mode": {
    "name": "ipython",
    "version": 3
   },
   "file_extension": ".py",
   "mimetype": "text/x-python",
   "name": "python",
   "nbconvert_exporter": "python",
   "pygments_lexer": "ipython3",
   "version": "3.7.10"
  }
 },
 "nbformat": 4,
 "nbformat_minor": 4
}
