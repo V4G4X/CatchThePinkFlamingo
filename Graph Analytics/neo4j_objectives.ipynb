{
 "cells": [
  {
   "cell_type": "markdown",
   "metadata": {},
   "source": [
    "# Question 1\n",
    "## Find the longest conversation chain in the chat data using the \"ResponseTo\" edge label."
   ]
  },
  {
   "cell_type": "markdown",
   "metadata": {},
   "source": [
    "### How many chats are involved in it?"
   ]
  },
  {
   "cell_type": "code",
   "execution_count": null,
   "metadata": {},
   "outputs": [],
   "source": [
    "MATCH p=()-[:ResponseTo*]->()\n",
    "RETURN length(p) as length\n",
    "ORDER BY length DESC\n",
    "LIMIT 1"
   ]
  },
  {
   "cell_type": "markdown",
   "metadata": {},
   "source": [
    "### How many users participated in this chain?"
   ]
  },
  {
   "cell_type": "code",
   "execution_count": null,
   "metadata": {},
   "outputs": [],
   "source": [
    "# Users that Created or were mentioned in a ChatItem\n",
    "MATCH p=(i1:ChatItem)-[:ResponseTo*]->(i2:ChatItem)\n",
    "WITH max(length(p)) as max_length\n",
    "MATCH p=(i1:ChatItem)-[:ResponseTo*]->(i2:ChatItem) WHERE length(p) = max_length\n",
    "WITH [i in nodes(p)] as items\n",
    "MATCH path=(u:User)-[:CreateChat]->(i:ChatItem)\n",
    "WHERE i IN items\n",
    "RETURN DISTINCT path"
   ]
  },
  {
   "cell_type": "code",
   "execution_count": null,
   "metadata": {},
   "outputs": [],
   "source": [
    "MATCH p=(i1:ChatItem)-[:ResponseTo*]->(i2:ChatItem) WHERE length(p) = 9 \n",
    "WITH [i in nodes(p)] as items\n",
    "MATCH path=(u:User)-[:CreateChat]->(i:ChatItem)\n",
    "WHERE i IN items\n",
    "RETURN COUNT(DISTINCT u) AS Participating_Users"
   ]
  },
  {
   "cell_type": "markdown",
   "metadata": {},
   "source": [
    "# Question 2:\n",
    "## Do the top 10 the chattiest users belong to the top 10 chattiest teams? "
   ]
  },
  {
   "cell_type": "markdown",
   "metadata": {},
   "source": [
    "### Identify the top 10 chattiest users"
   ]
  },
  {
   "cell_type": "code",
   "execution_count": null,
   "metadata": {},
   "outputs": [],
   "source": [
    "MATCH (u:User)-[c:CreateChat]->()\n",
    "RETURN u.id as UserID, COUNT(c) as Chats\n",
    "ORDER BY Chats DESC\n",
    "LIMIT 10"
   ]
  },
  {
   "cell_type": "markdown",
   "metadata": {},
   "source": [
    "```\n",
    "╒════════╤═══════╕\n",
    "│\"UserID\"│\"Chats\"│\n",
    "╞════════╪═══════╡\n",
    "│394     │115    │\n",
    "├────────┼───────┤\n",
    "│2067    │111    │\n",
    "├────────┼───────┤\n",
    "│1087    │109    │\n",
    "├────────┼───────┤\n",
    "│209     │109    │\n",
    "├────────┼───────┤\n",
    "│554     │107    │\n",
    "├────────┼───────┤\n",
    "│1627    │105    │\n",
    "├────────┼───────┤\n",
    "│516     │105    │\n",
    "├────────┼───────┤\n",
    "│999     │105    │\n",
    "├────────┼───────┤\n",
    "│668     │104    │\n",
    "├────────┼───────┤\n",
    "│461     │104    │\n",
    "└────────┴───────┘\n",
    "```"
   ]
  },
  {
   "cell_type": "markdown",
   "metadata": {},
   "source": [
    "### Identify the top 10 chattiest teams"
   ]
  },
  {
   "cell_type": "code",
   "execution_count": null,
   "metadata": {},
   "outputs": [],
   "source": [
    "MATCH (i:ChatItem)-[:PartOf]->(:TeamChatSession)-[:OwnedBy]->(t:Team)\n",
    "RETURN t.id as TeamID, COUNT(i) as Chats\n",
    "ORDER BY Chats DESC\n",
    "LIMIT 10"
   ]
  },
  {
   "cell_type": "markdown",
   "metadata": {},
   "source": [
    "```\n",
    "╒════════╤═══════╕\n",
    "│\"TeamID\"│\"Chats\"│\n",
    "╞════════╪═══════╡\n",
    "│82      │1324   │\n",
    "├────────┼───────┤\n",
    "│185     │1036   │\n",
    "├────────┼───────┤\n",
    "│112     │957    │\n",
    "├────────┼───────┤\n",
    "│18      │844    │\n",
    "├────────┼───────┤\n",
    "│194     │836    │\n",
    "├────────┼───────┤\n",
    "│129     │814    │\n",
    "├────────┼───────┤\n",
    "│52      │788    │\n",
    "├────────┼───────┤\n",
    "│136     │783    │\n",
    "├────────┼───────┤\n",
    "│146     │746    │\n",
    "├────────┼───────┤\n",
    "│81      │736    │\n",
    "└────────┴───────┘\n",
    "```"
   ]
  },
  {
   "cell_type": "markdown",
   "metadata": {},
   "source": [
    "### If any of the chattiest users are part of the chattiest teams or not"
   ]
  },
  {
   "cell_type": "code",
   "execution_count": null,
   "metadata": {},
   "outputs": [],
   "source": [
    "MATCH (u:User)-[c:CreateChat]->() \n",
    "WITH u, COUNT(c) as UserChats \n",
    "ORDER BY UserChats DESC LIMIT 10 \n",
    "WITH [u.id] as ChattiestUsers\n",
    "\n",
    "MATCH (u:User)-[:CreateChat]->(:ChatItem)-[:PartOf]->(:TeamChatSession)-[:OwnedBy]->(t:Team)\n",
    "WHERE u.id IN ChattiestUsers\n",
    "  AND t.id IN [82,185,112,18,194,129,52,136,146,81]\n",
    "return DISTINCT u.id AS User, t.id as Team"
   ]
  },
  {
   "cell_type": "markdown",
   "metadata": {},
   "source": [
    "```\n",
    "╒══════╤══════╕\n",
    "│\"User\"│\"Team\"│\n",
    "╞══════╪══════╡\n",
    "│999   │52    │\n",
    "└──────┴──────┘\n",
    "```"
   ]
  },
  {
   "cell_type": "markdown",
   "metadata": {},
   "source": [
    "# Question 3:\n",
    "## How Active are Groups of Users?"
   ]
  },
  {
   "cell_type": "markdown",
   "metadata": {},
   "source": [
    "We will construct the neighborhood of users. In this neighborhood, we will connect two users if \n",
    " - One user mentioned another user in a chat \n",
    " - One user created a chatItem in response to another user’s chatItem"
   ]
  },
  {
   "cell_type": "markdown",
   "metadata": {},
   "source": [
    "For the first condition, this query would have the following structure: \n",
    "\n",
    "```Match (u1:User)-SOMETHING IN THE MIDDLE-[:Mentioned]->(u2:User) create (u1)-[:InteractsWith]->(u2)```"
   ]
  },
  {
   "cell_type": "code",
   "execution_count": null,
   "metadata": {},
   "outputs": [],
   "source": [
    "MATCH (u1:User)-[:CreateChat]->(:ChatItem)-[:Mentioned]->(u2:User)\n",
    "CREATE (u1)-[:InteractsWith]->(u2)"
   ]
  },
  {
   "cell_type": "markdown",
   "metadata": {},
   "source": [
    "Use the same logic to create the query statement for the second condition. This query will also have the form  \n",
    "```MATCH PORTION followed create (u1)-[:InteractsWith]->(u2)```"
   ]
  },
  {
   "cell_type": "code",
   "execution_count": null,
   "metadata": {},
   "outputs": [],
   "source": [
    "MATCH (u1:User)-[:CreateChat]->(:ChatItem)-[:ResponseTo]->(:ChatItem)<-[:CreateChat]-(u2:User)\n",
    "CREATE (u1)-[:InteractsWith]->(u2)"
   ]
  },
  {
   "cell_type": "markdown",
   "metadata": {},
   "source": [
    "The above scheme will create an undesirable side effect if a user has responded to their own chatItem, because it will create a self loop between two users.  \n",
    "So after the first two steps we need to eliminate all self loops involving the edge “Interacts with”. This will take the form:  \n",
    "```MATCH (u1)-[r:InteractsWith]->(u1) DELETE r```"
   ]
  },
  {
   "cell_type": "code",
   "execution_count": null,
   "metadata": {},
   "outputs": [],
   "source": [
    "MATCH (u:User)-[c:CreateChat]->() \n",
    "WITH u, COUNT(c) as Chats \n",
    "ORDER BY Chats DESC LIMIT 10\n",
    "WITH [u] as ChattiestUsers\n",
    "\n",
    "//Getting the neighbours of all Users and the count\n",
    "MATCH (u1:User)-[:InteractsWith]->(u2:User)\n",
    "WHERE u1 in ChattiestUsers\n",
    "WITH u1.id AS UserID, COLLECT(DISTINCT u2.id) AS Neighbours \n",
    "RETURN UserID, Neighbours, SIZE(Neighbours) AS k"
   ]
  },
  {
   "cell_type": "markdown",
   "metadata": {},
   "source": [
    "```\n",
    "╒════════╤═════════════════════════════════════════════╤═══╕\n",
    "│\"UserID\"│\"Neighbours\"                                 │\"k\"│\n",
    "╞════════╪═════════════════════════════════════════════╪═══╡\n",
    "│394     │[1997,1012,2011,1782]                        │4  │\n",
    "├────────┼─────────────────────────────────────────────┼───┤\n",
    "│2067    │[697,1672,63,209,1627,516,1265,2096]         │8  │\n",
    "├────────┼─────────────────────────────────────────────┼───┤\n",
    "│1087    │[426,772,929,1879,1311,1098]                 │6  │\n",
    "├────────┼─────────────────────────────────────────────┼───┤\n",
    "│209     │[516,63,2067,1672,2096,1265,1627]            │7  │\n",
    "├────────┼─────────────────────────────────────────────┼───┤\n",
    "│554     │[2018,1687,1010,1959,1096,1412,610]          │7  │\n",
    "├────────┼─────────────────────────────────────────────┼───┤\n",
    "│1627    │[2096,1672,2067,63,516,209,697,1265]         │8  │\n",
    "├────────┼─────────────────────────────────────────────┼───┤\n",
    "│516     │[63,209,1672,2067,2096,1627,1265]            │7  │\n",
    "├────────┼─────────────────────────────────────────────┼───┤\n",
    "│999     │[1554,1587,778,1056,1606,1601,1398,1506,1839]│9  │\n",
    "├────────┼─────────────────────────────────────────────┼───┤\n",
    "│668     │[2034,648,698,458]                           │4  │\n",
    "├────────┼─────────────────────────────────────────────┼───┤\n",
    "│461     │[1675,1482,482]                              │3  │\n",
    "└────────┴─────────────────────────────────────────────┴───┘\n",
    "```"
   ]
  },
  {
   "cell_type": "code",
   "execution_count": null,
   "metadata": {},
   "outputs": [],
   "source": [
    "// Getting TOP 10 Chattiest Users\n",
    "MATCH (u:User)-[c:CreateChat]->() \n",
    "WITH u, COUNT(c) as Chats \n",
    "ORDER BY Chats DESC LIMIT 10\n",
    "WITH [u] as ChattiestUsers\n",
    "\n",
    "// Getting the neighbours of TOP 10 Users and the count\n",
    "MATCH (u1:User)-[:InteractsWith]->(u2:User)\n",
    "WHERE u1 in ChattiestUsers\n",
    "WITH u1.id AS UserID, COLLECT(DISTINCT u2.id) AS Neighbours \n",
    "WITH UserID, Neighbours, SIZE(Neighbours) AS k\n",
    "\n",
    "// Find Interecting Users\n",
    "MATCH (u1:User)-[:InteractsWith]->(u2:User)\n",
    "// Such that both belong in Neighbours list\n",
    "WHERE u1.id IN Neighbours AND u2.id IN Neighbours\n",
    "// For every valid combination of a User and its two neighbours, Value is 1 if neighbours have interacted atleast once, k is no. of Neighbours\n",
    "WITH DISTINCT UserID, u1.id AS N1, u2.id as N2, CASE WHEN (u1)-[:InteractsWith]->(u2) THEN 1 ELSE 0 END AS VALUE, k\n",
    "\n",
    "RETURN UserID,SUM(VALUE) as NUM,k*(k-1) AS DENUM, SUM(VALUE)/(k*(k-1)*1.0) AS ClusteringCoefficient\n",
    "ORDER BY ClusteringCoefficient DESC"
   ]
  },
  {
   "cell_type": "markdown",
   "metadata": {},
   "source": [
    "```\n",
    "╒════════╤═════╤═══════╤═══════════════════════╕\n",
    "│\"UserID\"│\"NUM\"│\"DENUM\"│\"ClusteringCoefficient\"│\n",
    "╞════════╪═════╪═══════╪═══════════════════════╡\n",
    "│668     │12   │12     │1.0                    │\n",
    "├────────┼─────┼───────┼───────────────────────┤\n",
    "│461     │6    │6      │1.0                    │\n",
    "├────────┼─────┼───────┼───────────────────────┤\n",
    "│209     │38   │42     │0.9047619047619048     │\n",
    "├────────┼─────┼───────┼───────────────────────┤\n",
    "│516     │38   │42     │0.9047619047619048     │\n",
    "├────────┼─────┼───────┼───────────────────────┤\n",
    "│394     │10   │12     │0.8333333333333334     │\n",
    "├────────┼─────┼───────┼───────────────────────┤\n",
    "│1087    │23   │30     │0.7666666666666667     │\n",
    "├────────┼─────┼───────┼───────────────────────┤\n",
    "│999     │55   │72     │0.7638888888888888     │\n",
    "├────────┼─────┼───────┼───────────────────────┤\n",
    "│554     │31   │42     │0.7380952380952381     │\n",
    "├────────┼─────┼───────┼───────────────────────┤\n",
    "│2067    │39   │56     │0.6964285714285714     │\n",
    "├────────┼─────┼───────┼───────────────────────┤\n",
    "│1627    │39   │56     │0.6964285714285714     │\n",
    "└────────┴─────┴───────┴───────────────────────┘\n",
    "```"
   ]
  }
 ],
 "metadata": {
  "kernelspec": {
   "display_name": "Python 3",
   "language": "python",
   "name": "python3"
  },
  "language_info": {
   "codemirror_mode": {
    "name": "ipython",
    "version": 3
   },
   "file_extension": ".py",
   "mimetype": "text/x-python",
   "name": "python",
   "nbconvert_exporter": "python",
   "pygments_lexer": "ipython3",
   "version": "3.7.10"
  }
 },
 "nbformat": 4,
 "nbformat_minor": 4
}
